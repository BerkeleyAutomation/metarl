{
 "cells": [
  {
   "cell_type": "code",
   "execution_count": 4,
   "metadata": {
    "collapsed": false
   },
   "outputs": [],
   "source": [
    "import numpy as np \n",
    "\n",
    "def get_values(filename):\n",
    "    voting = open(filename, \"r\")\n",
    "\n",
    "    results = [line for line in voting]\n",
    "\n",
    "    results2 = [x.split(\"Return=\")[1].strip() for x in results]\n",
    "\n",
    "    numbers = [float(x.split(',')[0]) for x in results2]\n",
    "    print len(numbers)\n",
    "    print np.mean(numbers)\n",
    "    print np.std(numbers)"
   ]
  },
  {
   "cell_type": "code",
   "execution_count": 5,
   "metadata": {
    "collapsed": false
   },
   "outputs": [
    {
     "name": "stdout",
     "output_type": "stream",
     "text": [
      "82\n",
      "10.3742121951\n",
      "14.9961716375\n"
     ]
    }
   ],
   "source": [
    "get_values(\"conf_results.txt\")\n",
    "#100k rollouts"
   ]
  },
  {
   "cell_type": "code",
   "execution_count": 6,
   "metadata": {
    "collapsed": false
   },
   "outputs": [
    {
     "name": "stdout",
     "output_type": "stream",
     "text": [
      "101\n",
      "31.9242574257\n",
      "1.72433448005\n"
     ]
    }
   ],
   "source": [
    "get_values(\"voting_results.txt\")\n",
    "#100k rollouts"
   ]
  },
  {
   "cell_type": "code",
   "execution_count": 7,
   "metadata": {
    "collapsed": false
   },
   "outputs": [],
   "source": [
    "from csv import DictReader\n",
    "with open(\"40.csv\") as f:\n",
    "    readcsv = DictReader(f)\n",
    "    lines = [line for line in readcsv if len(line['Base 1, y']) > 2]"
   ]
  },
  {
   "cell_type": "code",
   "execution_count": 13,
   "metadata": {
    "collapsed": false
   },
   "outputs": [],
   "source": [
    "def get_statistics(exp_name):\n",
    "    data = [float(line[exp_name]) for line in lines[100:105] if len(line[exp_name]) > 2]\n",
    "    return np.mean(data), np.std(data)"
   ]
  },
  {
   "cell_type": "code",
   "execution_count": 14,
   "metadata": {
    "collapsed": false
   },
   "outputs": [
    {
     "name": "stdout",
     "output_type": "stream",
     "text": [
      "-3.90080375378 12.3184468299\n"
     ]
    }
   ],
   "source": [
    "mean, _ = get_statistics(\"Full RL, y\")\n",
    "upper, _ = get_statistics(\"Trace 0, y\")\n",
    "print mean, upper-mean"
   ]
  },
  {
   "cell_type": "code",
   "execution_count": 15,
   "metadata": {
    "collapsed": false
   },
   "outputs": [
    {
     "name": "stdout",
     "output_type": "stream",
     "text": [
      "87.9370730956 5.78439375092\n"
     ]
    }
   ],
   "source": [
    "mean, _ = get_statistics(\"Meta RL, y\")\n",
    "upper, _ = get_statistics(\"Trace 2, y\")\n",
    "print mean, upper-mean"
   ]
  },
  {
   "cell_type": "code",
   "execution_count": 11,
   "metadata": {
    "collapsed": false
   },
   "outputs": [
    {
     "name": "stdout",
     "output_type": "stream",
     "text": [
      "-5.29068737597 13.1980384474\n"
     ]
    }
   ],
   "source": [
    "mean, _ = get_statistics(\"Base 1, y\")\n",
    "upper, _ = get_statistics(\"Trace 4, y\")\n",
    "print mean, upper-mean"
   ]
  },
  {
   "cell_type": "code",
   "execution_count": 12,
   "metadata": {
    "collapsed": false
   },
   "outputs": [
    {
     "name": "stdout",
     "output_type": "stream",
     "text": [
      "12.530360249 14.8599086895\n"
     ]
    }
   ],
   "source": [
    "mean, _ = get_statistics(\"Base 2, y\")\n",
    "upper, _ = get_statistics(\"Trace 6, y\")\n",
    "print mean, upper-mean"
   ]
  },
  {
   "cell_type": "code",
   "execution_count": null,
   "metadata": {
    "collapsed": true
   },
   "outputs": [],
   "source": []
  }
 ],
 "metadata": {
  "kernelspec": {
   "display_name": "Python 2",
   "language": "python",
   "name": "python2"
  },
  "language_info": {
   "codemirror_mode": {
    "name": "ipython",
    "version": 2
   },
   "file_extension": ".py",
   "mimetype": "text/x-python",
   "name": "python",
   "nbconvert_exporter": "python",
   "pygments_lexer": "ipython2",
   "version": "2.7.11"
  }
 },
 "nbformat": 4,
 "nbformat_minor": 0
}
